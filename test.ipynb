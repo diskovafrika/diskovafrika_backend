{
 "cells": [
  {
   "cell_type": "code",
   "execution_count": 8,
   "metadata": {},
   "outputs": [],
   "source": [
    "from uuid import uuid4"
   ]
  },
  {
   "cell_type": "code",
   "execution_count": 10,
   "metadata": {},
   "outputs": [
    {
     "name": "stdout",
     "output_type": "stream",
     "text": [
      "7a6432b5-c4c4-48ed-8cd4-5c67d67e02b2\n",
      "bc1e3590-da30-45d3-b051-28b2291d530b\n",
      "a284b15b-34b9-4973-b115-0ea3bd0908de\n",
      "6c95a3dd-9730-48dd-a274-561bee8d0b13\n",
      "875da6ad-6362-4719-a1da-556e07eb467c\n",
      "20a3ad7e-97b6-4737-8366-cdbb17045a8f\n",
      "e21c9b09-5ad2-41cb-8646-ab3f7ec6d6fb\n",
      "5dcd21cf-ce1e-4c8e-84ce-35181f7eb07c\n",
      "e3dd61de-b9c2-4efe-93ba-926f55464776\n",
      "1eb5bc91-d263-4923-b184-300c3a671266\n",
      "bd7e2b93-b414-4ed2-9f8a-be444a0ca077\n",
      "6d10a020-8f5f-4d1f-be8a-8221939cd128\n",
      "4e9f0e09-817f-4dda-a5dd-54475b609c09\n",
      "239dd403-56bd-4218-beaf-4cb0a740fb3c\n",
      "22a6fc2e-ed81-4220-9c3a-f34f9d3d9443\n",
      "a2375dd6-602c-4753-ac1d-c31e2d179dd3\n",
      "5cdb1f2a-59b2-453f-8d15-b18fd98fbea1\n",
      "3254568d-6f44-4b19-a02f-cdf93f3dc471\n",
      "3ddffb8a-f738-4bf7-a7a1-992225bebd84\n",
      "8085af25-9005-4171-8d71-34b7b1e5193f\n",
      "65fba209-f612-4559-ab2b-5ce58962eddb\n",
      "2fb7ec56-e02a-4003-a62b-87b5073b3873\n",
      "c1908c3d-4f57-4bf0-9181-fc55e5616e61\n",
      "78893ff7-1792-4ba5-8abe-5b2a1a38efb5\n",
      "cd71e267-fcf0-45ae-86cd-cbb9fce98109\n",
      "c1f6a56c-cc5d-4537-a1d7-239a3c0ee8c6\n",
      "75983969-9177-4df0-9012-6074c3f8a0ff\n",
      "95ae072b-a7ef-484b-b680-d0463c7c97ca\n",
      "b8466689-18c3-4601-8251-9fa4c928df07\n",
      "9db402eb-19a6-4d9f-8600-c914e8424d40\n",
      "63ebb937-bcc6-4457-9638-6d1e0f9a7e4b\n",
      "0a4b5c8a-9c3a-488b-95ab-baace257afda\n",
      "191f435e-758f-4a5c-953b-96ef0a09ee6c\n",
      "986b1fbf-b440-4a43-991b-c3aa47be1aef\n",
      "fc981a40-3491-4eb8-8c17-caa5645b8b39\n",
      "99361eea-a5d9-4698-818b-97b5ac5edb63\n",
      "a5beee47-0491-44ac-86db-ac4c21024de9\n",
      "dc8227d0-e385-4bd8-b22e-4f756242b7e9\n",
      "8c3eaea9-9e2d-4748-a61d-cea3aa6122a3\n",
      "ea4992e7-5c34-4421-87b2-06188473a523\n",
      "63c56573-42fe-4a07-aaf5-dc8ac4d1e23e\n",
      "d00bd938-3654-4c5e-bda5-af93da4583d9\n",
      "f036a68c-90ae-49ee-9a78-e9b84499a6f0\n",
      "3f9e308b-9054-4866-8fe8-ec1c54e04818\n",
      "2562eb23-2304-499c-913e-d0430bc38936\n"
     ]
    }
   ],
   "source": [
    "from uuid import uuid4\n",
    "\n",
    "\n",
    "i = 1\n",
    "while (i < 46):\n",
    "    id = uuid4()\n",
    "    print(id)\n",
    "    i += 1\n"
   ]
  },
  {
   "cell_type": "code",
   "execution_count": null,
   "metadata": {},
   "outputs": [],
   "source": []
  }
 ],
 "metadata": {
  "kernelspec": {
   "display_name": "venv",
   "language": "python",
   "name": "python3"
  },
  "language_info": {
   "codemirror_mode": {
    "name": "ipython",
    "version": 3
   },
   "file_extension": ".py",
   "mimetype": "text/x-python",
   "name": "python",
   "nbconvert_exporter": "python",
   "pygments_lexer": "ipython3",
   "version": "3.8.16"
  },
  "orig_nbformat": 4
 },
 "nbformat": 4,
 "nbformat_minor": 2
}
